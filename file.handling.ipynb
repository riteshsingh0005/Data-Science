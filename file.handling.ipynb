{
 "cells": [
  {
   "cell_type": "code",
   "execution_count": 9,
   "id": "1c2d6158",
   "metadata": {},
   "outputs": [],
   "source": [
    "import os"
   ]
  },
  {
   "cell_type": "code",
   "execution_count": 10,
   "id": "0f5ce7cb",
   "metadata": {},
   "outputs": [
    {
     "name": "stdout",
     "output_type": "stream",
     "text": [
      "Current Working Directory is: c:\\Users\\HP\\OneDrive\\Documents\\Data Science\n"
     ]
    }
   ],
   "source": [
    "print('Current Working Directory is:',os.getcwd())"
   ]
  },
  {
   "cell_type": "code",
   "execution_count": 11,
   "id": "34f6e7b1",
   "metadata": {},
   "outputs": [
    {
     "name": "stdout",
     "output_type": "stream",
     "text": [
      "files in current working directory ['.git', 'armstrong.py', 'basics.ipynb', 'conditions.ipynb', 'data structures', 'dictionary.ipynb', 'fibonacci.py', 'file.handling.ipynb', 'flask', 'functions.ipynb', 'libraries.ipynb', 'list.ipynb', 'loops.ipynb', 'operators.ipynb', 'palindrome.py', 'pattern.py', 'prime.py', 'questions.ipynb', 'sets.ipynb', 'strings.ipynb']\n"
     ]
    }
   ],
   "source": [
    "files=os.listdir()\n",
    "print('files in current working directory', files)"
   ]
  },
  {
   "cell_type": "code",
   "execution_count": 12,
   "id": "e80f223c",
   "metadata": {},
   "outputs": [
    {
     "name": "stdout",
     "output_type": "stream",
     "text": [
      "files in current working directory ['.git', 'armstrong.py', 'basics.ipynb', 'conditions.ipynb', 'data structures', 'dictionary.ipynb', 'fibonacci.py', 'file.handling.ipynb', 'flask', 'functions.ipynb', 'libraries.ipynb', 'list.ipynb', 'loops.ipynb', 'operators.ipynb', 'palindrome.py', 'pattern.py', 'prime.py', 'questions.ipynb', 'sets.ipynb', 'strings.ipynb']\n"
     ]
    }
   ],
   "source": [
    "files=os.listdir(r\"C:\\Users\\HP\\OneDrive\\Documents\\Data Science\")\n",
    "print('files in current working directory',files)"
   ]
  },
  {
   "cell_type": "code",
   "execution_count": 13,
   "id": "d053781d",
   "metadata": {},
   "outputs": [
    {
     "name": "stdout",
     "output_type": "stream",
     "text": [
      "=> C:\\Users\\HP\\OneDrive\\Documents\\Data Science\n",
      "📂 ['.git', 'data structures', 'flask']\n",
      "🗄️ ['armstrong.py', 'basics.ipynb', 'conditions.ipynb', 'dictionary.ipynb', 'fibonacci.py', 'file.handling.ipynb', 'functions.ipynb', 'libraries.ipynb', 'list.ipynb', 'loops.ipynb', 'operators.ipynb', 'palindrome.py', 'pattern.py', 'prime.py', 'questions.ipynb', 'sets.ipynb', 'strings.ipynb']\n",
      "=> C:\\Users\\HP\\OneDrive\\Documents\\Data Science\\.git\n",
      "📂 ['hooks', 'info', 'logs', 'objects', 'refs']\n",
      "🗄️ ['COMMIT_EDITMSG', 'config', 'description', 'FETCH_HEAD', 'HEAD', 'index', 'ORIG_HEAD']\n",
      "=> C:\\Users\\HP\\OneDrive\\Documents\\Data Science\\.git\\hooks\n",
      "📂 []\n",
      "🗄️ ['applypatch-msg.sample', 'commit-msg.sample', 'fsmonitor-watchman.sample', 'post-update.sample', 'pre-applypatch.sample', 'pre-commit.sample', 'pre-merge-commit.sample', 'pre-push.sample', 'pre-rebase.sample', 'pre-receive.sample', 'prepare-commit-msg.sample', 'push-to-checkout.sample', 'sendemail-validate.sample', 'update.sample']\n",
      "=> C:\\Users\\HP\\OneDrive\\Documents\\Data Science\\.git\\info\n",
      "📂 []\n",
      "🗄️ ['exclude']\n",
      "=> C:\\Users\\HP\\OneDrive\\Documents\\Data Science\\.git\\logs\n",
      "📂 ['refs']\n",
      "🗄️ ['HEAD']\n",
      "=> C:\\Users\\HP\\OneDrive\\Documents\\Data Science\\.git\\logs\\refs\n",
      "📂 ['heads', 'remotes']\n",
      "🗄️ []\n",
      "=> C:\\Users\\HP\\OneDrive\\Documents\\Data Science\\.git\\logs\\refs\\heads\n",
      "📂 []\n",
      "🗄️ ['main']\n",
      "=> C:\\Users\\HP\\OneDrive\\Documents\\Data Science\\.git\\logs\\refs\\remotes\n",
      "📂 ['origin']\n",
      "🗄️ []\n",
      "=> C:\\Users\\HP\\OneDrive\\Documents\\Data Science\\.git\\logs\\refs\\remotes\\origin\n",
      "📂 []\n",
      "🗄️ ['main']\n",
      "=> C:\\Users\\HP\\OneDrive\\Documents\\Data Science\\.git\\objects\n",
      "📂 ['01', '03', '0f', '10', '2a', '2f', '36', '3c', '3e', '43', '44', '4c', '59', '5e', '65', '69', '6d', '7b', '82', '8a', '95', '96', '9b', 'a5', 'b8', 'bb', 'bd', 'c4', 'c8', 'c9', 'cf', 'e5', 'fc', 'info', 'pack']\n",
      "🗄️ []\n",
      "=> C:\\Users\\HP\\OneDrive\\Documents\\Data Science\\.git\\objects\\01\n",
      "📂 []\n",
      "🗄️ ['78467ce7a9732a2a40b0654def52fd9894331c']\n",
      "=> C:\\Users\\HP\\OneDrive\\Documents\\Data Science\\.git\\objects\\03\n",
      "📂 []\n",
      "🗄️ ['5d22ae9591bc5b26e409df0a247fc770bb209b']\n",
      "=> C:\\Users\\HP\\OneDrive\\Documents\\Data Science\\.git\\objects\\0f\n",
      "📂 []\n",
      "🗄️ ['96deed40427bf044b2c16f25ce8f0efd964d5c']\n",
      "=> C:\\Users\\HP\\OneDrive\\Documents\\Data Science\\.git\\objects\\10\n",
      "📂 []\n",
      "🗄️ ['9b9e306204d01d1c5df08495866044ee5aaa92']\n",
      "=> C:\\Users\\HP\\OneDrive\\Documents\\Data Science\\.git\\objects\\2a\n",
      "📂 []\n",
      "🗄️ ['5847ef6d9476f14acb96a39ac181d374e3a79c']\n",
      "=> C:\\Users\\HP\\OneDrive\\Documents\\Data Science\\.git\\objects\\2f\n",
      "📂 []\n",
      "🗄️ ['6b9f9856eee27d4e7a41f6fc7e956d426ad357']\n",
      "=> C:\\Users\\HP\\OneDrive\\Documents\\Data Science\\.git\\objects\\36\n",
      "📂 []\n",
      "🗄️ ['6a37027e784a4053b504b8e9e43cfb2bebc4f2']\n",
      "=> C:\\Users\\HP\\OneDrive\\Documents\\Data Science\\.git\\objects\\3c\n",
      "📂 []\n",
      "🗄️ ['68adf1960af3b9f73300e824fc84b705f47d23']\n",
      "=> C:\\Users\\HP\\OneDrive\\Documents\\Data Science\\.git\\objects\\3e\n",
      "📂 []\n",
      "🗄️ ['b5291bf3510fba05b9465d227129d861ceefd0']\n",
      "=> C:\\Users\\HP\\OneDrive\\Documents\\Data Science\\.git\\objects\\43\n",
      "📂 []\n",
      "🗄️ ['b7e6f3ec23fec522fd1c3b102272e697ba6b0e']\n",
      "=> C:\\Users\\HP\\OneDrive\\Documents\\Data Science\\.git\\objects\\44\n",
      "📂 []\n",
      "🗄️ ['63f63c182173694fe1a7fd71b434b796d4e161']\n",
      "=> C:\\Users\\HP\\OneDrive\\Documents\\Data Science\\.git\\objects\\4c\n",
      "📂 []\n",
      "🗄️ ['3c0b6b26516e0b698a60e61c7275637a7451ae']\n",
      "=> C:\\Users\\HP\\OneDrive\\Documents\\Data Science\\.git\\objects\\59\n",
      "📂 []\n",
      "🗄️ ['9f3fb4763d546edc38b34fbdaff411b9fe718a']\n",
      "=> C:\\Users\\HP\\OneDrive\\Documents\\Data Science\\.git\\objects\\5e\n",
      "📂 []\n",
      "🗄️ ['4f2940b704164bd667ed2fcc48c2e928adeac2']\n",
      "=> C:\\Users\\HP\\OneDrive\\Documents\\Data Science\\.git\\objects\\65\n",
      "📂 []\n",
      "🗄️ ['63b29a6bae9d6aec4bd09428b21436dfa0d169']\n",
      "=> C:\\Users\\HP\\OneDrive\\Documents\\Data Science\\.git\\objects\\69\n",
      "📂 []\n",
      "🗄️ ['44facc3a6b8c7daf22c950987a019499fe959d']\n",
      "=> C:\\Users\\HP\\OneDrive\\Documents\\Data Science\\.git\\objects\\6d\n",
      "📂 []\n",
      "🗄️ ['3ec3d0e4da1467926e9a53f630afd955403ce2']\n",
      "=> C:\\Users\\HP\\OneDrive\\Documents\\Data Science\\.git\\objects\\7b\n",
      "📂 []\n",
      "🗄️ ['d195b5a292fdc823ba9a1fb74525fbdc2187bc']\n",
      "=> C:\\Users\\HP\\OneDrive\\Documents\\Data Science\\.git\\objects\\82\n",
      "📂 []\n",
      "🗄️ ['fdeaa991ad8a075685bdcc029b6eeb7d51e527']\n",
      "=> C:\\Users\\HP\\OneDrive\\Documents\\Data Science\\.git\\objects\\8a\n",
      "📂 []\n",
      "🗄️ ['44787f7d3036d8e55f6a165275e56687d43205']\n",
      "=> C:\\Users\\HP\\OneDrive\\Documents\\Data Science\\.git\\objects\\95\n",
      "📂 []\n",
      "🗄️ ['1257d524e8b74cce88e9919be7c27a2a33d45a']\n",
      "=> C:\\Users\\HP\\OneDrive\\Documents\\Data Science\\.git\\objects\\96\n",
      "📂 []\n",
      "🗄️ ['b31170ee849480807b5371a7fdeec78e9839b4']\n",
      "=> C:\\Users\\HP\\OneDrive\\Documents\\Data Science\\.git\\objects\\9b\n",
      "📂 []\n",
      "🗄️ ['0356b889d5ade08553a139a7dae17152ab52ac']\n",
      "=> C:\\Users\\HP\\OneDrive\\Documents\\Data Science\\.git\\objects\\a5\n",
      "📂 []\n",
      "🗄️ ['6b43fbcf8ff6c871d3d674d7b1ce9d89c57d68']\n",
      "=> C:\\Users\\HP\\OneDrive\\Documents\\Data Science\\.git\\objects\\b8\n",
      "📂 []\n",
      "🗄️ ['5d8fd8e96d494f2453a5db19bd866f34c4c516']\n",
      "=> C:\\Users\\HP\\OneDrive\\Documents\\Data Science\\.git\\objects\\bb\n",
      "📂 []\n",
      "🗄️ ['3adbe8f2145a0ce70d2ebd13f47808c1e1b52c']\n",
      "=> C:\\Users\\HP\\OneDrive\\Documents\\Data Science\\.git\\objects\\bd\n",
      "📂 []\n",
      "🗄️ ['72553fe699f79bbc51a0f516f80b63096da2ae']\n",
      "=> C:\\Users\\HP\\OneDrive\\Documents\\Data Science\\.git\\objects\\c4\n",
      "📂 []\n",
      "🗄️ ['79e0f5357c3f55f56b0044c14827198ca0f7c8']\n",
      "=> C:\\Users\\HP\\OneDrive\\Documents\\Data Science\\.git\\objects\\c8\n",
      "📂 []\n",
      "🗄️ ['2490b1780053e5673d9719a16f22d565d7b875']\n",
      "=> C:\\Users\\HP\\OneDrive\\Documents\\Data Science\\.git\\objects\\c9\n",
      "📂 []\n",
      "🗄️ ['eb3c9fa3e69e9dc2172302a602823f1a2b0b5e']\n",
      "=> C:\\Users\\HP\\OneDrive\\Documents\\Data Science\\.git\\objects\\cf\n",
      "📂 []\n",
      "🗄️ ['e3b1c507b077a3706dffd0e8a4d2474cc7da28']\n",
      "=> C:\\Users\\HP\\OneDrive\\Documents\\Data Science\\.git\\objects\\e5\n",
      "📂 []\n",
      "🗄️ ['66a9619d69a19af6f1611c38f0c64fa2731300']\n",
      "=> C:\\Users\\HP\\OneDrive\\Documents\\Data Science\\.git\\objects\\fc\n",
      "📂 []\n",
      "🗄️ ['794ba505a60e34964d2c9fe7b324bc5d63713d']\n",
      "=> C:\\Users\\HP\\OneDrive\\Documents\\Data Science\\.git\\objects\\info\n",
      "📂 []\n",
      "🗄️ []\n",
      "=> C:\\Users\\HP\\OneDrive\\Documents\\Data Science\\.git\\objects\\pack\n",
      "📂 []\n",
      "🗄️ []\n",
      "=> C:\\Users\\HP\\OneDrive\\Documents\\Data Science\\.git\\refs\n",
      "📂 ['heads', 'remotes', 'tags']\n",
      "🗄️ []\n",
      "=> C:\\Users\\HP\\OneDrive\\Documents\\Data Science\\.git\\refs\\heads\n",
      "📂 []\n",
      "🗄️ ['main']\n",
      "=> C:\\Users\\HP\\OneDrive\\Documents\\Data Science\\.git\\refs\\remotes\n",
      "📂 ['origin']\n",
      "🗄️ []\n",
      "=> C:\\Users\\HP\\OneDrive\\Documents\\Data Science\\.git\\refs\\remotes\\origin\n",
      "📂 []\n",
      "🗄️ ['main']\n",
      "=> C:\\Users\\HP\\OneDrive\\Documents\\Data Science\\.git\\refs\\tags\n",
      "📂 []\n",
      "🗄️ []\n",
      "=> C:\\Users\\HP\\OneDrive\\Documents\\Data Science\\data structures\n",
      "📂 []\n",
      "🗄️ []\n",
      "=> C:\\Users\\HP\\OneDrive\\Documents\\Data Science\\flask\n",
      "📂 ['static', 'templates']\n",
      "🗄️ ['app.py']\n",
      "=> C:\\Users\\HP\\OneDrive\\Documents\\Data Science\\flask\\static\n",
      "📂 []\n",
      "🗄️ []\n",
      "=> C:\\Users\\HP\\OneDrive\\Documents\\Data Science\\flask\\templates\n",
      "📂 []\n",
      "🗄️ ['about.html', 'index.html', 'login.html', 'register.html']\n",
      "Total files in directory tree: 82\n"
     ]
    }
   ],
   "source": [
    "total_files=0\n",
    "for path,folders,files in os.walk(r\"C:\\Users\\HP\\OneDrive\\Documents\\Data Science\"):\n",
    "    print('=>',path)\n",
    "    print('📂',folders)\n",
    "    print('🗄️',files)\n",
    "    total_files += len(files)\n",
    "print('Total files in directory tree:',total_files)"
   ]
  },
  {
   "cell_type": "code",
   "execution_count": 14,
   "id": "2c6b04ef",
   "metadata": {},
   "outputs": [
    {
     "name": "stdout",
     "output_type": "stream",
     "text": [
      "The file does not exist\n"
     ]
    }
   ],
   "source": [
    "files= r'D:JAVA'\n",
    "if os.path.exists(files):\n",
    "    print('The File exists')\n",
    "else:\n",
    "    print(\"The file does not exist\")"
   ]
  },
  {
   "cell_type": "code",
   "execution_count": null,
   "id": "25a3a574",
   "metadata": {},
   "outputs": [],
   "source": []
  }
 ],
 "metadata": {
  "kernelspec": {
   "display_name": "base",
   "language": "python",
   "name": "python3"
  },
  "language_info": {
   "codemirror_mode": {
    "name": "ipython",
    "version": 3
   },
   "file_extension": ".py",
   "mimetype": "text/x-python",
   "name": "python",
   "nbconvert_exporter": "python",
   "pygments_lexer": "ipython3",
   "version": "3.13.2"
  }
 },
 "nbformat": 4,
 "nbformat_minor": 5
}
