{
 "cells": [
  {
   "cell_type": "code",
   "execution_count": 2,
   "metadata": {},
   "outputs": [
    {
     "name": "stdout",
     "output_type": "stream",
     "text": [
      "world\n"
     ]
    }
   ],
   "source": [
    "a=10\n",
    "if a>10:\n",
    "    print(\"hello\")\n",
    "print(\"world\")"
   ]
  },
  {
   "cell_type": "code",
   "execution_count": 5,
   "metadata": {},
   "outputs": [
    {
     "name": "stdout",
     "output_type": "stream",
     "text": [
      "A\n",
      "B\n"
     ]
    }
   ],
   "source": [
    "marks=85\n",
    "if marks >= 90:\n",
    "    print(\"A+\")\n",
    "if marks >= 80:\n",
    "    print(\"A\")\n",
    "if marks >= 60:\n",
    "    print(\"B\")\n",
    "    if marks < 60:\n",
    "        print('Fail')"
   ]
  },
  {
   "cell_type": "code",
   "execution_count": 6,
   "metadata": {},
   "outputs": [
    {
     "name": "stdout",
     "output_type": "stream",
     "text": [
      "A\n"
     ]
    }
   ],
   "source": [
    "marks=85\n",
    "if marks >= 90:\n",
    "    print(\"A+\")\n",
    "elif marks >= 80:\n",
    "    print(\"A\")\n",
    "elif marks >= 60:\n",
    "    print(\"B\")\n",
    "elif marks < 60:\n",
    "    print('Fail')\n",
    "else:\n",
    "    print(\"Invalid marks\")"
   ]
  },
  {
   "cell_type": "code",
   "execution_count": 7,
   "metadata": {},
   "outputs": [
    {
     "name": "stdout",
     "output_type": "stream",
     "text": [
      "Eligible\n"
     ]
    }
   ],
   "source": [
    "age=20\n",
    "if age>=18:\n",
    "    print(\"Eligible\")\n",
    "else:\n",
    "    print(\"not eligible\")"
   ]
  },
  {
   "cell_type": "code",
   "execution_count": null,
   "metadata": {},
   "outputs": [],
   "source": [
    "#NESTED IF \n",
    "if cond1:\n",
    "    if cond2:\n",
    "        if cond3:\n",
    "            statement\n",
    "        else:\n",
    "            statement\n",
    "    else:\n",
    "        statement\n",
    "else:\n",
    "    statement"
   ]
  },
  {
   "cell_type": "code",
   "execution_count": 1,
   "metadata": {},
   "outputs": [
    {
     "name": "stdout",
     "output_type": "stream",
     "text": [
      "Registration sucessful🥳\n"
     ]
    }
   ],
   "source": [
    "#nested if\n",
    "username = input(\"enter your username:\")\n",
    "email= input(\"enter your email:\")\n",
    "password= input(\"enter your password:\")\n",
    "cpass=input(\"confirm your password\")\n",
    "if len(username)>=8 and len(username)<=20:\n",
    "    if'@' in email and len (email)>=8:\n",
    "        if len(password)>=10 and len(password)<=20:\n",
    "            if password ==cpass:\n",
    "                print(\"Registration sucessful🥳\")\n",
    "            else:\n",
    "                print(\"password mismatch😑\")\n",
    "        else:\n",
    "            print(\"passwrod must be between 10 to 20 characters😒\")\n",
    "    else:\n",
    "        print(\"invalid email😢\")\n",
    "else:\n",
    "    print(\"username must be between 10 to 20 characters😶\")"
   ]
  },
  {
   "cell_type": "code",
   "execution_count": null,
   "metadata": {},
   "outputs": [],
   "source": []
  }
 ],
 "metadata": {
  "kernelspec": {
   "display_name": "base",
   "language": "python",
   "name": "python3"
  },
  "language_info": {
   "codemirror_mode": {
    "name": "ipython",
    "version": 3
   },
   "file_extension": ".py",
   "mimetype": "text/x-python",
   "name": "python",
   "nbconvert_exporter": "python",
   "pygments_lexer": "ipython3",
   "version": "3.13.2"
  }
 },
 "nbformat": 4,
 "nbformat_minor": 2
}
