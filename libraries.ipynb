{
 "cells": [
  {
   "cell_type": "code",
   "execution_count": 1,
   "id": "0be42e83",
   "metadata": {},
   "outputs": [],
   "source": [
    "import math"
   ]
  },
  {
   "cell_type": "code",
   "execution_count": 3,
   "id": "fffb2ad9",
   "metadata": {},
   "outputs": [
    {
     "name": "stdout",
     "output_type": "stream",
     "text": [
      "120\n",
      "1\n",
      "12\n",
      "0.8414709848078965\n",
      "0.0\n"
     ]
    }
   ],
   "source": [
    "print(math.factorial(5))\n",
    "print(math.gcd(2,5,7))\n",
    "print(math.lcm(2,4,6))\n",
    "print(math.sin(1))\n",
    "print(math.tan(0))"
   ]
  },
  {
   "cell_type": "code",
   "execution_count": null,
   "id": "28dcd93a",
   "metadata": {},
   "outputs": [],
   "source": []
  }
 ],
 "metadata": {
  "kernelspec": {
   "display_name": "base",
   "language": "python",
   "name": "python3"
  },
  "language_info": {
   "codemirror_mode": {
    "name": "ipython",
    "version": 3
   },
   "file_extension": ".py",
   "mimetype": "text/x-python",
   "name": "python",
   "nbconvert_exporter": "python",
   "pygments_lexer": "ipython3",
   "version": "3.13.2"
  }
 },
 "nbformat": 4,
 "nbformat_minor": 5
}
