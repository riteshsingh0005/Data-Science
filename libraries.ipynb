{
 "cells": [
  {
   "cell_type": "code",
   "execution_count": 1,
   "id": "0be42e83",
   "metadata": {},
   "outputs": [],
   "source": [
    "import math"
   ]
  },
  {
   "cell_type": "code",
   "execution_count": 3,
   "id": "fffb2ad9",
   "metadata": {},
   "outputs": [
    {
     "name": "stdout",
     "output_type": "stream",
     "text": [
      "120\n",
      "1\n",
      "12\n",
      "0.8414709848078965\n",
      "0.0\n"
     ]
    }
   ],
   "source": [
    "print(math.factorial(5))\n",
    "print(math.gcd(2,5,7))\n",
    "print(math.lcm(2,4,6))\n",
    "print(math.sin(1))\n",
    "print(math.tan(0))"
   ]
  },
  {
   "cell_type": "code",
   "execution_count": 4,
   "id": "28dcd93a",
   "metadata": {},
   "outputs": [],
   "source": [
    "from random import random,randint,choice,shuffle"
   ]
  },
  {
   "cell_type": "code",
   "execution_count": 5,
   "id": "88ca5175",
   "metadata": {},
   "outputs": [],
   "source": [
    "import random"
   ]
  },
  {
   "cell_type": "code",
   "execution_count": 14,
   "id": "f237fd38",
   "metadata": {},
   "outputs": [
    {
     "name": "stdout",
     "output_type": "stream",
     "text": [
      "Give number between 2 and 100 7\n",
      "Give number between 0 and 1  0.5932901158188318\n",
      "Choose a number from the list 2\n",
      "shuffle the names: ['poip', 'oop', 'pop', 'joe']\n"
     ]
    }
   ],
   "source": [
    "print(\"Give number between 2 and 100\",random.randint(2,100))\n",
    "print(\"Give number between 0 and 1 \",random.random())\n",
    "print(\"Choose a number from the list\",random.choice([2,5,3,7,6,8]))\n",
    "name=['joe','pop','poip','oop']\n",
    "shuffle(name)\n",
    "print(\"shuffle the names:\",name)"
   ]
  },
  {
   "cell_type": "code",
   "execution_count": 15,
   "id": "8b4f1b6f",
   "metadata": {},
   "outputs": [],
   "source": [
    "from datetime import datetime as dt"
   ]
  },
  {
   "cell_type": "code",
   "execution_count": 16,
   "id": "d6dedc6d",
   "metadata": {},
   "outputs": [
    {
     "name": "stdout",
     "output_type": "stream",
     "text": [
      "Current Date and Time: 2025-07-05 18:08:23.682840\n"
     ]
    }
   ],
   "source": [
    "print('Current Date and Time:',dt.now())"
   ]
  },
  {
   "cell_type": "code",
   "execution_count": 17,
   "id": "661dda63",
   "metadata": {},
   "outputs": [
    {
     "name": "stdout",
     "output_type": "stream",
     "text": [
      "Current date: 2025-07-05\n",
      "Current date: 18:10:18.619770\n"
     ]
    }
   ],
   "source": [
    "print('Current date:',dt.now().date())\n",
    "print('Current date:',dt.now().time())"
   ]
  },
  {
   "cell_type": "code",
   "execution_count": 25,
   "id": "36d31349",
   "metadata": {},
   "outputs": [
    {
     "name": "stdout",
     "output_type": "stream",
     "text": [
      "Current Year: 2025\n",
      "Current month: 7\n",
      "Current day: 5\n",
      "Current hour: 18\n",
      "Current minute: 16\n",
      "Current second: 51\n",
      "Current microsecond: 294940\n",
      "Current weekday: 5\n"
     ]
    }
   ],
   "source": [
    "print('Current Year:',dt.now().year)\n",
    "print('Current month:',dt.now().month)\n",
    "print('Current day:',dt.now().day)\n",
    "print('Current hour:',dt.now().hour)\n",
    "print('Current minute:',dt.now().minute)\n",
    "print('Current second:',dt.now().second)\n",
    "print('Current microsecond:',dt.now().microsecond)\n",
    "print('Current weekday:',dt.now().weekday())"
   ]
  },
  {
   "cell_type": "code",
   "execution_count": 26,
   "id": "bf38e321",
   "metadata": {},
   "outputs": [
    {
     "name": "stdout",
     "output_type": "stream",
     "text": [
      "05/07/25\n"
     ]
    }
   ],
   "source": [
    "date=dt.strftime(dt.now(),'%d/%m/%y')\n",
    "print(date)"
   ]
  },
  {
   "cell_type": "code",
   "execution_count": 30,
   "id": "ade2d92a",
   "metadata": {},
   "outputs": [
    {
     "name": "stdout",
     "output_type": "stream",
     "text": [
      "18:23:58\n"
     ]
    }
   ],
   "source": [
    "time=dt.strftime(dt.now(),'%H:%M:%S')\n",
    "print(time)\n",
    "\n",
    "\n"
   ]
  },
  {
   "cell_type": "code",
   "execution_count": null,
   "id": "41d390c3",
   "metadata": {},
   "outputs": [],
   "source": []
  }
 ],
 "metadata": {
  "kernelspec": {
   "display_name": "base",
   "language": "python",
   "name": "python3"
  },
  "language_info": {
   "codemirror_mode": {
    "name": "ipython",
    "version": 3
   },
   "file_extension": ".py",
   "mimetype": "text/x-python",
   "name": "python",
   "nbconvert_exporter": "python",
   "pygments_lexer": "ipython3",
   "version": "3.13.2"
  }
 },
 "nbformat": 4,
 "nbformat_minor": 5
}
