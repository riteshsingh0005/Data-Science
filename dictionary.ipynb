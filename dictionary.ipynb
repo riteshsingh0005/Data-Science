{
 "cells": [
  {
   "cell_type": "markdown",
   "id": "383f6955",
   "metadata": {},
   "source": [
    "how to create a dictionary\n",
    "how to access pairs in dictionary\n",
    "how to run a loop in dictionary\n",
    "how to make a nested dictionary\n",
    "indexing in dictionary"
   ]
  },
  {
   "cell_type": "code",
   "execution_count": 11,
   "id": "a5806301",
   "metadata": {},
   "outputs": [
    {
     "name": "stdout",
     "output_type": "stream",
     "text": [
      "{'name': 'alice', 'age': 20, 'course': 'bca', 'marks': 90}\n"
     ]
    }
   ],
   "source": [
    "student = {\n",
    "    \"name\":\"alice\",\n",
    "    \"age\":20,\n",
    "    \"course\":\"bca\",\n",
    "    \"marks\":90\n",
    "}\n",
    "print(student)"
   ]
  },
  {
   "cell_type": "code",
   "execution_count": 12,
   "id": "6f967bfc",
   "metadata": {},
   "outputs": [
    {
     "name": "stdout",
     "output_type": "stream",
     "text": [
      "{'name': 'Alice', 'age': 20, 'course': 'bca', 'marks': 90}\n"
     ]
    }
   ],
   "source": [
    "info= dict(name=\"Alice\",age=20,course=\"bca\",marks=90)\n",
    "print(info)"
   ]
  },
  {
   "cell_type": "code",
   "execution_count": 13,
   "id": "1580bc14",
   "metadata": {},
   "outputs": [
    {
     "name": "stdout",
     "output_type": "stream",
     "text": [
      "{'name': 'ritesh', 'age': 20, 'course': 'bca', 'marks': 90}\n"
     ]
    }
   ],
   "source": [
    "info= dict(name=input (\"enter the name\"),age=20,course=\"bca\",marks=90)\n",
    "print(info)\n"
   ]
  },
  {
   "cell_type": "code",
   "execution_count": 14,
   "id": "d0b0efb7",
   "metadata": {},
   "outputs": [
    {
     "name": "stdout",
     "output_type": "stream",
     "text": [
      "{'lucknow': [30, 36, 50], 'delhi': [40, 45, 50], 'chennai': [30, 40]}\n"
     ]
    }
   ],
   "source": [
    "temp = {\n",
    "    'lucknow':[30,36,50],\n",
    "    'delhi':[40,45,50],\n",
    "    'chennai':[30,40]\n",
    "}\n",
    "print(temp)"
   ]
  },
  {
   "cell_type": "code",
   "execution_count": null,
   "id": "a997236a",
   "metadata": {},
   "outputs": [
    {
     "name": "stdout",
     "output_type": "stream",
     "text": [
      "average: 38.666666666666664\n"
     ]
    }
   ],
   "source": [
    "#average of temparature\n",
    "values=temp['lucknow']\n",
    "average=sum(values)/len(values)\n",
    "print('average:',average)\n"
   ]
  },
  {
   "cell_type": "code",
   "execution_count": 15,
   "id": "b32c6f26",
   "metadata": {},
   "outputs": [
    {
     "data": {
      "text/plain": [
       "20"
      ]
     },
     "execution_count": 15,
     "metadata": {},
     "output_type": "execute_result"
    }
   ],
   "source": [
    "#1st method to access value through key\n",
    "info['name']\n",
    "info['age']"
   ]
  },
  {
   "cell_type": "code",
   "execution_count": 16,
   "id": "98088398",
   "metadata": {},
   "outputs": [
    {
     "data": {
      "text/plain": [
       "'bca'"
      ]
     },
     "execution_count": 16,
     "metadata": {},
     "output_type": "execute_result"
    }
   ],
   "source": [
    "#2nd method to access \n",
    "info.get(\"name\")\n",
    "info.get(\"course\")"
   ]
  },
  {
   "cell_type": "code",
   "execution_count": 17,
   "id": "e1c358fb",
   "metadata": {},
   "outputs": [],
   "source": [
    "#adding new key and value in a pair in the dictionary\n",
    "info['city']=\"lucknow\""
   ]
  },
  {
   "cell_type": "code",
   "execution_count": 18,
   "id": "41f3c243",
   "metadata": {},
   "outputs": [
    {
     "name": "stdout",
     "output_type": "stream",
     "text": [
      "{'name': 'ritesh', 'age': 20, 'course': 'bca', 'marks': 90, 'city': 'lucknow'}\n"
     ]
    }
   ],
   "source": [
    "print(info)"
   ]
  },
  {
   "cell_type": "code",
   "execution_count": 19,
   "id": "c730835d",
   "metadata": {},
   "outputs": [
    {
     "name": "stdout",
     "output_type": "stream",
     "text": [
      "name:alice\n",
      "age:20\n",
      "course:bca\n",
      "marks:90\n"
     ]
    }
   ],
   "source": [
    "for i , j in student.items():\n",
    "    print(f'{i}:{j}')\n",
    "    "
   ]
  },
  {
   "cell_type": "code",
   "execution_count": 22,
   "id": "c083768e",
   "metadata": {},
   "outputs": [
    {
     "name": "stdout",
     "output_type": "stream",
     "text": [
      "dict_keys(['name', 'age', 'course', 'marks'])\n",
      "dict_values(['alice', 20, 'bca', 90])\n",
      "dict_items([('name', 'alice'), ('age', 20), ('course', 'bca'), ('marks', 90)])\n"
     ]
    }
   ],
   "source": [
    "print(student.keys())\n",
    "print(student.values())\n",
    "print(student.items())"
   ]
  },
  {
   "cell_type": "code",
   "execution_count": 29,
   "id": "5aa6895b",
   "metadata": {},
   "outputs": [
    {
     "name": "stdout",
     "output_type": "stream",
     "text": [
      "{'emp001': {'dept': 'Finance', 'salary': 50000, 'name': 'Alice'}, 'emp002': {'dept': 'marketing', 'salary': 45000, 'name': 'bob'}, 'emp003': {'dept': 'IT', 'salary': 70000, 'name': 'popi'}, 'emp004': {'dept': 'banking', 'salary': 50000, 'name': 'riya'}}\n"
     ]
    }
   ],
   "source": [
    "company={\n",
    "    'emp001':{\n",
    "        'dept':'Finance',\n",
    "        'salary':50000,\n",
    "        'name':'Alice'   \n",
    "    },\n",
    "    'emp002' : {\n",
    "        'dept':'marketing',\n",
    "        'salary': 45000,\n",
    "        'name':'bob'\n",
    "    },\n",
    "    'emp003': {\n",
    "        'dept':'IT',\n",
    "        'salary':70000,\n",
    "        'name':'popi'\n",
    "    },\n",
    "    'emp004': {\n",
    "        'dept':'banking',\n",
    "        'salary': 50000,\n",
    "        'name': 'riya',\n",
    "    }\n",
    "}\n",
    "print(company)    "
   ]
  },
  {
   "cell_type": "code",
   "execution_count": 30,
   "id": "e42f4fe6",
   "metadata": {},
   "outputs": [
    {
     "name": "stdout",
     "output_type": "stream",
     "text": [
      "{'emp001': {'dept': 'Finance', 'name': 'Alice', 'salary': 50000},\n",
      " 'emp002': {'dept': 'marketing', 'name': 'bob', 'salary': 45000},\n",
      " 'emp003': {'dept': 'IT', 'name': 'popi', 'salary': 70000},\n",
      " 'emp004': {'dept': 'banking', 'name': 'riya', 'salary': 50000}}\n"
     ]
    }
   ],
   "source": [
    "#for better showcase\n",
    "from pprint import pprint\n",
    "pprint(company)"
   ]
  },
  {
   "cell_type": "code",
   "execution_count": 31,
   "id": "4a04d3d1",
   "metadata": {},
   "outputs": [],
   "source": [
    "company['emp005'] = {\n",
    "    'dept':'finance',\n",
    "    'salary': 60000,\n",
    "    'name':'papi'\n",
    "}"
   ]
  },
  {
   "cell_type": "code",
   "execution_count": 32,
   "id": "3cbeb7e2",
   "metadata": {},
   "outputs": [
    {
     "name": "stdout",
     "output_type": "stream",
     "text": [
      "{'emp001': {'dept': 'Finance', 'name': 'Alice', 'salary': 50000},\n",
      " 'emp002': {'dept': 'marketing', 'name': 'bob', 'salary': 45000},\n",
      " 'emp003': {'dept': 'IT', 'name': 'popi', 'salary': 70000},\n",
      " 'emp004': {'dept': 'banking', 'name': 'riya', 'salary': 50000},\n",
      " 'emp005': {'dept': 'finance', 'name': 'papi', 'salary': 60000}}\n"
     ]
    }
   ],
   "source": [
    "pprint(company)"
   ]
  },
  {
   "cell_type": "code",
   "execution_count": 33,
   "id": "2067f472",
   "metadata": {},
   "outputs": [
    {
     "data": {
      "text/plain": [
       "'marketing'"
      ]
     },
     "execution_count": 33,
     "metadata": {},
     "output_type": "execute_result"
    }
   ],
   "source": [
    "company['emp002']['dept']"
   ]
  },
  {
   "cell_type": "code",
   "execution_count": null,
   "id": "17c53dc8",
   "metadata": {},
   "outputs": [],
   "source": []
  }
 ],
 "metadata": {
  "kernelspec": {
   "display_name": "base",
   "language": "python",
   "name": "python3"
  },
  "language_info": {
   "codemirror_mode": {
    "name": "ipython",
    "version": 3
   },
   "file_extension": ".py",
   "mimetype": "text/x-python",
   "name": "python",
   "nbconvert_exporter": "python",
   "pygments_lexer": "ipython3",
   "version": "3.13.2"
  }
 },
 "nbformat": 4,
 "nbformat_minor": 5
}
