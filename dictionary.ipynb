{
 "cells": [
  {
   "cell_type": "markdown",
   "id": "383f6955",
   "metadata": {},
   "source": [
    "how to create a dictionary\n",
    "how to access pairs in dictionary\n",
    "how to run a loop in dictionary\n",
    "how to make a nested dictionary\n",
    "indexing in dictionary"
   ]
  },
  {
   "cell_type": "code",
   "execution_count": 1,
   "id": "a5806301",
   "metadata": {},
   "outputs": [
    {
     "name": "stdout",
     "output_type": "stream",
     "text": [
      "{'name': 'alice', 'age': 20, 'course': 'bca', 'marks': 90}\n"
     ]
    }
   ],
   "source": [
    "student = {\n",
    "    \"name\":\"alice\",\n",
    "    \"age\":20,\n",
    "    \"course\":\"bca\",\n",
    "    \"marks\":90\n",
    "}\n",
    "print(student)"
   ]
  },
  {
   "cell_type": "code",
   "execution_count": 2,
   "id": "6f967bfc",
   "metadata": {},
   "outputs": [
    {
     "name": "stdout",
     "output_type": "stream",
     "text": [
      "{'name': 'Alice', 'age': 20, 'course': 'bca', 'marks': 90}\n"
     ]
    }
   ],
   "source": [
    "info= dict(name=\"Alice\",age=20,course=\"bca\",marks=90)\n",
    "print(info)"
   ]
  },
  {
   "cell_type": "code",
   "execution_count": 4,
   "id": "1580bc14",
   "metadata": {},
   "outputs": [
    {
     "name": "stdout",
     "output_type": "stream",
     "text": [
      "{'name': 'ritesh', 'age': 20, 'course': 'bca', 'marks': 90}\n"
     ]
    }
   ],
   "source": [
    "info= dict(name=input (\"enter the name\"),age=20,course=\"bca\",marks=90)\n",
    "print(info)\n"
   ]
  },
  {
   "cell_type": "code",
   "execution_count": 5,
   "id": "d0b0efb7",
   "metadata": {},
   "outputs": [
    {
     "name": "stdout",
     "output_type": "stream",
     "text": [
      "{'lucknow': [30, 36, 50], 'delhi': [40, 45, 50], 'chennai': [30, 40]}\n"
     ]
    }
   ],
   "source": [
    "temp = {\n",
    "    'lucknow':[30,36,50],\n",
    "    'delhi':[40,45,50],\n",
    "    'chennai':[30,40]\n",
    "}\n",
    "print(temp)"
   ]
  },
  {
   "cell_type": "code",
   "execution_count": 6,
   "id": "b32c6f26",
   "metadata": {},
   "outputs": [
    {
     "data": {
      "text/plain": [
       "20"
      ]
     },
     "execution_count": 6,
     "metadata": {},
     "output_type": "execute_result"
    }
   ],
   "source": [
    "#1st method to access value through key\n",
    "info['name']\n",
    "info['age']"
   ]
  },
  {
   "cell_type": "code",
   "execution_count": 7,
   "id": "98088398",
   "metadata": {},
   "outputs": [
    {
     "data": {
      "text/plain": [
       "'bca'"
      ]
     },
     "execution_count": 7,
     "metadata": {},
     "output_type": "execute_result"
    }
   ],
   "source": [
    "#2nd method to access \n",
    "info.get(\"name\")\n",
    "info.get(\"course\")"
   ]
  },
  {
   "cell_type": "code",
   "execution_count": 8,
   "id": "e1c358fb",
   "metadata": {},
   "outputs": [],
   "source": [
    "#adding new key and value in a pair in the dictionary\n",
    "info['city']=\"lucknow\""
   ]
  },
  {
   "cell_type": "code",
   "execution_count": 9,
   "id": "41f3c243",
   "metadata": {},
   "outputs": [
    {
     "name": "stdout",
     "output_type": "stream",
     "text": [
      "{'name': 'ritesh', 'age': 20, 'course': 'bca', 'marks': 90, 'city': 'lucknow'}\n"
     ]
    }
   ],
   "source": [
    "print(info)"
   ]
  },
  {
   "cell_type": "code",
   "execution_count": null,
   "id": "915ce470",
   "metadata": {},
   "outputs": [],
   "source": []
  }
 ],
 "metadata": {
  "kernelspec": {
   "display_name": "base",
   "language": "python",
   "name": "python3"
  },
  "language_info": {
   "codemirror_mode": {
    "name": "ipython",
    "version": 3
   },
   "file_extension": ".py",
   "mimetype": "text/x-python",
   "name": "python",
   "nbconvert_exporter": "python",
   "pygments_lexer": "ipython3",
   "version": "3.13.2"
  }
 },
 "nbformat": 4,
 "nbformat_minor": 5
}
