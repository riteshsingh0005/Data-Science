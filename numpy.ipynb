{
 "cells": [
  {
   "cell_type": "code",
   "execution_count": 1,
   "id": "4eb3e126",
   "metadata": {},
   "outputs": [],
   "source": [
    "import numpy as np"
   ]
  },
  {
   "cell_type": "code",
   "execution_count": 2,
   "id": "4e6b888d",
   "metadata": {},
   "outputs": [
    {
     "name": "stdout",
     "output_type": "stream",
     "text": [
      "[1 2 3 4 5]\n"
     ]
    }
   ],
   "source": [
    "a= np.array ([1,2,3,4,5])\n",
    "print(a)"
   ]
  },
  {
   "cell_type": "code",
   "execution_count": 3,
   "id": "aa84bd8a",
   "metadata": {},
   "outputs": [
    {
     "data": {
      "text/plain": [
       "numpy.ndarray"
      ]
     },
     "execution_count": 3,
     "metadata": {},
     "output_type": "execute_result"
    }
   ],
   "source": [
    "type(a)"
   ]
  },
  {
   "cell_type": "code",
   "execution_count": 4,
   "id": "77975eab",
   "metadata": {},
   "outputs": [
    {
     "name": "stdout",
     "output_type": "stream",
     "text": [
      "[[ 1  2  3  4  5]\n",
      " [ 6  7  8  9 10]]\n"
     ]
    }
   ],
   "source": [
    "#creating a 2d array \n",
    "a2= np.array([[1,2,3,4,5],[6,7,8,9,10]])\n",
    "print(a2)"
   ]
  },
  {
   "cell_type": "code",
   "execution_count": 5,
   "id": "f0ffc334",
   "metadata": {},
   "outputs": [
    {
     "name": "stdout",
     "output_type": "stream",
     "text": [
      "[[[ 1  2  3]\n",
      "  [ 4  5  6]]\n",
      "\n",
      " [[ 5  6  7]\n",
      "  [ 8  9 10]]]\n"
     ]
    }
   ],
   "source": [
    "#creating a 3d array \n",
    "a3=np.array ([[[1,2,3],[4,5,6]],[[5,6,7],[8,9,10]]])\n",
    "print(a3)"
   ]
  },
  {
   "cell_type": "code",
   "execution_count": 9,
   "id": "5826657e",
   "metadata": {},
   "outputs": [
    {
     "name": "stdout",
     "output_type": "stream",
     "text": [
      "(2, 5)\n",
      "2\n",
      "int64\n"
     ]
    }
   ],
   "source": [
    "print(a2.shape)\n",
    "print(a2.ndim)\n",
    "print(a2.dtype)"
   ]
  },
  {
   "cell_type": "code",
   "execution_count": 12,
   "id": "b03555ca",
   "metadata": {},
   "outputs": [
    {
     "data": {
      "text/plain": [
       "array([1, 3, 5, 7, 9])"
      ]
     },
     "execution_count": 12,
     "metadata": {},
     "output_type": "execute_result"
    }
   ],
   "source": [
    "np.arange(10)\n",
    "np.arange(1,11)\n",
    "np.arange(1,11,2)\n"
   ]
  },
  {
   "cell_type": "code",
   "execution_count": 13,
   "id": "4f945c1d",
   "metadata": {},
   "outputs": [
    {
     "data": {
      "text/plain": [
       "array([[4, 2, 1],\n",
       "       [9, 9, 3]], dtype=int32)"
      ]
     },
     "execution_count": 13,
     "metadata": {},
     "output_type": "execute_result"
    }
   ],
   "source": [
    "np.random.randint(1,11, size=(2,3))"
   ]
  },
  {
   "cell_type": "code",
   "execution_count": 15,
   "id": "75df9dac",
   "metadata": {},
   "outputs": [
    {
     "name": "stdout",
     "output_type": "stream",
     "text": [
      "[[7 2 3]\n",
      " [2 5 2]\n",
      " [3 5 1]]\n",
      "[[1 8 3]\n",
      " [3 7 1]\n",
      " [2 5 3]]\n"
     ]
    }
   ],
   "source": [
    "x=np.array ([[7,2,3],\n",
    "            [2,5,2,],\n",
    "            [3,5,1]])\n",
    "y=np.array([[1,8,3],\n",
    "            [3,7,1],\n",
    "            [2,5,3]])\n",
    "print(x)\n",
    "print(y)"
   ]
  },
  {
   "cell_type": "code",
   "execution_count": null,
   "id": "c160a74e",
   "metadata": {},
   "outputs": [],
   "source": []
  }
 ],
 "metadata": {
  "kernelspec": {
   "display_name": "base",
   "language": "python",
   "name": "python3"
  },
  "language_info": {
   "codemirror_mode": {
    "name": "ipython",
    "version": 3
   },
   "file_extension": ".py",
   "mimetype": "text/x-python",
   "name": "python",
   "nbconvert_exporter": "python",
   "pygments_lexer": "ipython3",
   "version": "3.13.2"
  }
 },
 "nbformat": 4,
 "nbformat_minor": 5
}
