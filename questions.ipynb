{
 "cells": [
  {
   "cell_type": "code",
   "execution_count": 4,
   "metadata": {},
   "outputs": [
    {
     "name": "stdout",
     "output_type": "stream",
     "text": [
      "two sides are equal\n"
     ]
    }
   ],
   "source": [
    "#-check whether the two sides of a triangle is equal or not\n",
    "a=int(input(\"enter side 1\"))\n",
    "b=int(input(\"enter side 2\"))\n",
    "c=int(input(\"enter side 3\"))\n",
    "if(a==b):\n",
    "    print(\"two sides are equal\")\n",
    "elif(b==c):\n",
    "    print(\"two sides are equal\")\n",
    "elif(c==a):\n",
    "    print(\"three sides are equal\")\n",
    "else:\n",
    "    print(\"all sides are not same\")\n"
   ]
  },
  {
   "cell_type": "code",
   "execution_count": 14,
   "metadata": {},
   "outputs": [
    {
     "name": "stdout",
     "output_type": "stream",
     "text": [
      "it is vowel\n"
     ]
    }
   ],
   "source": [
    "#-check whether a character entered by the user is vowel or not\n",
    "vowel=\"aeiouAEIOU\"\n",
    "k=input(\"enter the character\")\n",
    "if k in vowel:\n",
    "    print(\"it is vowel\")\n",
    "else:\n",
    "    print(\"it is not a vowel\") "
   ]
  },
  {
   "cell_type": "code",
   "execution_count": 11,
   "metadata": {},
   "outputs": [
    {
     "name": "stdout",
     "output_type": "stream",
     "text": [
      "it is not a leap year\n"
     ]
    }
   ],
   "source": [
    "#-check whether a year is leap year or not\n",
    "year=int(input(\"enter the year\"))\n",
    "if (year%400==0):\n",
    "    print(\"it is a leap year\")\n",
    "else:\n",
    "    print(\"it is not a leap year\")"
   ]
  },
  {
   "cell_type": "code",
   "execution_count": 12,
   "metadata": {},
   "outputs": [
    {
     "name": "stdout",
     "output_type": "stream",
     "text": [
      "it is a even number\n"
     ]
    }
   ],
   "source": [
    "#check whether is even or odd\n",
    "n=int(input(\"enter a number\"))\n",
    "if (n%2==0):\n",
    "    print(\"it is a even number\")\n",
    "else:\n",
    "    print(\"it is a odd number\")"
   ]
  },
  {
   "cell_type": "code",
   "execution_count": 13,
   "metadata": {},
   "outputs": [
    {
     "name": "stdout",
     "output_type": "stream",
     "text": [
      "basic salary: 50000\n",
      "HRA: 2500.0\n",
      "DA: 500.0\n",
      "gross salary: 53000.0\n"
     ]
    }
   ],
   "source": [
    "#calculate the gross salary of an emloyee where the basic salary is 50,000 HRA is 5% of basic salary and DA is 10%of basic salary\n",
    "bs=50000\n",
    "HRA=5/100 * bs\n",
    "DA = 1/100*bs\n",
    "GS=bs+HRA+DA\n",
    "print(\"basic salary:\",bs)\n",
    "print(\"HRA:\",HRA)\n",
    "print(\"DA:\",DA)\n",
    "print(\"gross salary:\",GS)\n"
   ]
  },
  {
   "cell_type": "code",
   "execution_count": null,
   "metadata": {},
   "outputs": [],
   "source": [
    "#-check whether a triangle is equilateral triangle or isosceles triangle\n"
   ]
  },
  {
   "cell_type": "code",
   "execution_count": null,
   "metadata": {},
   "outputs": [],
   "source": []
  }
 ],
 "metadata": {
  "kernelspec": {
   "display_name": "base",
   "language": "python",
   "name": "python3"
  },
  "language_info": {
   "codemirror_mode": {
    "name": "ipython",
    "version": 3
   },
   "file_extension": ".py",
   "mimetype": "text/x-python",
   "name": "python",
   "nbconvert_exporter": "python",
   "pygments_lexer": "ipython3",
   "version": "3.13.2"
  }
 },
 "nbformat": 4,
 "nbformat_minor": 2
}
