{
 "cells": [
  {
   "cell_type": "code",
   "execution_count": 1,
   "metadata": {},
   "outputs": [
    {
     "name": "stdout",
     "output_type": "stream",
     "text": [
      "['instagram', 'ola', 'bgmi', 'valorant', 'snapchat', 'inshort', 'youtube', 'google', 'drive', 'x']\n"
     ]
    }
   ],
   "source": [
    "apps=['instagram','ola','bgmi','valorant','snapchat','inshort','youtube','google','drive','x']\n",
    "print (apps)"
   ]
  },
  {
   "cell_type": "markdown",
   "metadata": {},
   "source": [
    "INDEXING AND SLICING"
   ]
  },
  {
   "cell_type": "code",
   "execution_count": 2,
   "metadata": {},
   "outputs": [
    {
     "name": "stdout",
     "output_type": "stream",
     "text": [
      "snapchat\n"
     ]
    }
   ],
   "source": [
    "#indexing\n",
    "print(apps[4])"
   ]
  },
  {
   "cell_type": "code",
   "execution_count": 3,
   "metadata": {},
   "outputs": [
    {
     "name": "stdout",
     "output_type": "stream",
     "text": [
      "google\n"
     ]
    }
   ],
   "source": [
    "#reverse indexing\n",
    "print(apps[-3])"
   ]
  },
  {
   "cell_type": "code",
   "execution_count": 6,
   "metadata": {},
   "outputs": [
    {
     "name": "stdout",
     "output_type": "stream",
     "text": [
      "['ola', 'bgmi', 'valorant', 'snapchat', 'inshort']\n",
      "['ola', 'valorant', 'inshort']\n"
     ]
    }
   ],
   "source": [
    "print(apps[1:6])\n",
    "print(apps[1:7:2])\n",
    "print(apps[::2])"
   ]
  },
  {
   "cell_type": "code",
   "execution_count": 9,
   "metadata": {},
   "outputs": [
    {
     "name": "stdout",
     "output_type": "stream",
     "text": [
      "[]\n",
      "['youtube', 'google', 'drive']\n",
      "['inshort', 'youtube', 'google', 'drive', 'x']\n"
     ]
    }
   ],
   "source": [
    "print(apps[-1:-4])\n",
    "#below mentioned code does not print the last elemnet\n",
    "print(apps[-4:-1])\n",
    "#if you want to print the last element as well \n",
    "print(apps[-5:])"
   ]
  },
  {
   "cell_type": "markdown",
   "metadata": {},
   "source": [
    "LIST METHODS\n",
    "append() - to add item at the end of list\n",
    "insert() - to add item at any specific position in the list\n",
    "pop()- to delete item using its index position\n",
    "remove() - to delete the items using item name\n",
    "copy() - to make duplicate of the list \n",
    "sort()- to sort the list inn particular order\n",
    "extend()- to combine two list into a single list\n",
    "clear() - to delete all the items from the list but not the list"
   ]
  },
  {
   "cell_type": "code",
   "execution_count": 10,
   "metadata": {},
   "outputs": [
    {
     "name": "stdout",
     "output_type": "stream",
     "text": [
      "['instagram', 'ola', 'bgmi', 'valorant', 'snapchat', 'inshort', 'youtube', 'google', 'drive', 'x', 'netflix']\n"
     ]
    }
   ],
   "source": [
    "apps.append('netflix')\n",
    "print(apps)"
   ]
  },
  {
   "cell_type": "code",
   "execution_count": 12,
   "metadata": {},
   "outputs": [
    {
     "name": "stdout",
     "output_type": "stream",
     "text": [
      "['instagram', 'ola', 'bgmi', 'brave', 'valorant', 'snapchat', 'inshort', 'youtube', 'google', 'drive', 'x', 'netflix']\n"
     ]
    }
   ],
   "source": [
    "apps.insert(3,'brave')\n",
    "print(apps)"
   ]
  },
  {
   "cell_type": "code",
   "execution_count": 13,
   "metadata": {},
   "outputs": [
    {
     "name": "stdout",
     "output_type": "stream",
     "text": [
      "['instagram', 'ola', 'brave', 'valorant', 'snapchat', 'inshort', 'youtube', 'google', 'drive', 'x', 'netflix']\n"
     ]
    }
   ],
   "source": [
    "apps.pop(2)\n",
    "print(apps)"
   ]
  },
  {
   "cell_type": "code",
   "execution_count": 14,
   "metadata": {},
   "outputs": [
    {
     "name": "stdout",
     "output_type": "stream",
     "text": [
      "['instagram', 'brave', 'valorant', 'snapchat', 'inshort', 'youtube', 'google', 'drive', 'x', 'netflix']\n"
     ]
    }
   ],
   "source": [
    "apps.remove('ola')\n",
    "print (apps)"
   ]
  },
  {
   "cell_type": "code",
   "execution_count": 15,
   "metadata": {},
   "outputs": [
    {
     "name": "stdout",
     "output_type": "stream",
     "text": [
      "['instagram', 'brave', 'valorant', 'snapchat', 'inshort', 'youtube', 'google', 'drive', 'x', 'netflix']\n"
     ]
    }
   ],
   "source": [
    "appstore= apps.copy()\n",
    "print(appstore)"
   ]
  },
  {
   "cell_type": "code",
   "execution_count": 16,
   "metadata": {},
   "outputs": [
    {
     "name": "stdout",
     "output_type": "stream",
     "text": [
      "[]\n"
     ]
    }
   ],
   "source": [
    "appstore.clear()\n",
    "print(appstore)"
   ]
  },
  {
   "cell_type": "code",
   "execution_count": 17,
   "metadata": {},
   "outputs": [
    {
     "name": "stdout",
     "output_type": "stream",
     "text": [
      "['brave', 'drive', 'google', 'inshort', 'instagram', 'netflix', 'snapchat', 'valorant', 'x', 'youtube']\n"
     ]
    }
   ],
   "source": [
    "apps.sort()\n",
    "print(apps)"
   ]
  },
  {
   "cell_type": "code",
   "execution_count": 23,
   "metadata": {},
   "outputs": [
    {
     "name": "stdout",
     "output_type": "stream",
     "text": [
      "['brave', 'drive', 'google', 'inshort', 'instagram', 'netflix', 'snapchat', 'valorant', 'x', 'youtube', 'cherry', 'opium', 'cherry', 'opium', 'cherry', 'popi']\n"
     ]
    }
   ],
   "source": [
    "fruits=['cherry','popi']\n",
    "apps.extend(fruits)\n",
    "print(apps)"
   ]
  },
  {
   "cell_type": "code",
   "execution_count": null,
   "metadata": {},
   "outputs": [],
   "source": []
  }
 ],
 "metadata": {
  "kernelspec": {
   "display_name": "base",
   "language": "python",
   "name": "python3"
  },
  "language_info": {
   "codemirror_mode": {
    "name": "ipython",
    "version": 3
   },
   "file_extension": ".py",
   "mimetype": "text/x-python",
   "name": "python",
   "nbconvert_exporter": "python",
   "pygments_lexer": "ipython3",
   "version": "3.13.2"
  }
 },
 "nbformat": 4,
 "nbformat_minor": 2
}
