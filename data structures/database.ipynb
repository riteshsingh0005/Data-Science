{
 "cells": [
  {
   "cell_type": "code",
   "execution_count": 43,
   "id": "b238e000",
   "metadata": {},
   "outputs": [],
   "source": [
    "from sqlalchemy import create_engine,Column,Integer,String\n",
    "from sqlalchemy.orm import declarative_base,sessionmaker"
   ]
  },
  {
   "cell_type": "markdown",
   "id": "36c9831e",
   "metadata": {},
   "source": [
    "-create_engine:it is used to make connection from the database\n",
    "-column:It defines columns in database\n",
    "-Integer and String :datatype of values in database"
   ]
  },
  {
   "cell_type": "code",
   "execution_count": 44,
   "id": "a6e2ecd5",
   "metadata": {},
   "outputs": [],
   "source": [
    "engine = create_engine('sqlite:///user.db')"
   ]
  },
  {
   "cell_type": "code",
   "execution_count": 45,
   "id": "5f2079d6",
   "metadata": {},
   "outputs": [],
   "source": [
    "#this line is needed to create the table\n",
    "Base = declarative_base()"
   ]
  },
  {
   "cell_type": "code",
   "execution_count": 46,
   "id": "65830260",
   "metadata": {},
   "outputs": [],
   "source": [
    "class User(Base):\n",
    "    __tablename__='users'\n",
    "    id = Column(Integer, primary_key=True)\n",
    "    name = Column(String)\n",
    "    password = Column(String)"
   ]
  },
  {
   "cell_type": "code",
   "execution_count": 47,
   "id": "089222a5",
   "metadata": {},
   "outputs": [],
   "source": [
    "Base.metadata.create_all(engine)"
   ]
  },
  {
   "cell_type": "code",
   "execution_count": 48,
   "id": "7407756d",
   "metadata": {},
   "outputs": [],
   "source": [
    "Session = sessionmaker(bind=engine) #this line tells the sessionmaker to use the engine we created\n",
    "Session = Session() #this line creates a session object"
   ]
  },
  {
   "cell_type": "code",
   "execution_count": 49,
   "id": "3f8f0fb1",
   "metadata": {},
   "outputs": [],
   "source": [
    "#add a new user \n",
    "new_user =User(name='Alice', password='2736')\n",
    "Session.add(new_user)\n",
    "Session.commit()"
   ]
  },
  {
   "cell_type": "code",
   "execution_count": 50,
   "id": "49b7f3a7",
   "metadata": {},
   "outputs": [],
   "source": [
    "#add a new user\n",
    "new_user =User(name='John', password='abrakadabra')\n",
    "Session.add(new_user)\n",
    "Session.commit()"
   ]
  },
  {
   "cell_type": "code",
   "execution_count": 51,
   "id": "207749e9",
   "metadata": {},
   "outputs": [
    {
     "name": "stdout",
     "output_type": "stream",
     "text": [
      "ID:2,Name:John,Password:abrakadabra\n",
      "ID:3,Name:Alice,Password:2736\n",
      "ID:4,Name:John,Password:abrakadabra\n",
      "ID:5,Name:Alice,Password:2736\n",
      "ID:6,Name:John,Password:abrakadabra\n"
     ]
    }
   ],
   "source": [
    "#retrieve all users\n",
    "users = Session.query(User).all()\n",
    "for user in users:\n",
    "    print(f'ID:{user.id},Name:{user.name},Password:{user.password}')"
   ]
  },
  {
   "cell_type": "code",
   "execution_count": 52,
   "id": "c7a2d6c1",
   "metadata": {},
   "outputs": [
    {
     "ename": "AttributeError",
     "evalue": "'NoneType' object has no attribute 'name' and no __dict__ for setting new attributes",
     "output_type": "error",
     "traceback": [
      "\u001b[31m---------------------------------------------------------------------------\u001b[39m",
      "\u001b[31mAttributeError\u001b[39m                            Traceback (most recent call last)",
      "\u001b[36mCell\u001b[39m\u001b[36m \u001b[39m\u001b[32mIn[52]\u001b[39m\u001b[32m, line 3\u001b[39m\n\u001b[32m      1\u001b[39m \u001b[38;5;66;03m#update the user\u001b[39;00m\n\u001b[32m      2\u001b[39m user = Session.query(User).filter_by(\u001b[38;5;28mid\u001b[39m=\u001b[32m1\u001b[39m).first()\n\u001b[32m----> \u001b[39m\u001b[32m3\u001b[39m \u001b[43muser\u001b[49m\u001b[43m.\u001b[49m\u001b[43mname\u001b[49m=\u001b[33m'\u001b[39m\u001b[33mJohn Smith\u001b[39m\u001b[33m'\u001b[39m\n\u001b[32m      4\u001b[39m Session.commit()\n",
      "\u001b[31mAttributeError\u001b[39m: 'NoneType' object has no attribute 'name' and no __dict__ for setting new attributes"
     ]
    }
   ],
   "source": [
    "#update the user\n",
    "user = Session.query(User).filter_by(id=1).first()\n",
    "user.name='John Smith'\n",
    "Session.commit()"
   ]
  },
  {
   "cell_type": "code",
   "execution_count": null,
   "id": "17eb89b4",
   "metadata": {},
   "outputs": [
    {
     "name": "stdout",
     "output_type": "stream",
     "text": [
      "ID:1,Name:John Smith,Password:2736\n",
      "ID:2,Name:John,Password:abrakadabra\n",
      "ID:3,Name:Alice,Password:2736\n",
      "ID:4,Name:John,Password:abrakadabra\n"
     ]
    }
   ],
   "source": [
    "#retrieve all users\n",
    "users = Session.query(User).all()\n",
    "for user in users:\n",
    "    print(f'ID:{user.id},Name:{user.name},Password:{user.password}')"
   ]
  },
  {
   "cell_type": "code",
   "execution_count": null,
   "id": "48263f79",
   "metadata": {},
   "outputs": [],
   "source": [
    "#delete a user\n",
    "user = Session.query(User).filter_by(id=1).first()\n",
    "Session.delete(user)\n",
    "Session.commit()"
   ]
  },
  {
   "cell_type": "code",
   "execution_count": 53,
   "id": "424bb347",
   "metadata": {},
   "outputs": [
    {
     "name": "stdout",
     "output_type": "stream",
     "text": [
      "ID:2,Name:John,Password:abrakadabra\n",
      "ID:3,Name:Alice,Password:2736\n",
      "ID:4,Name:John,Password:abrakadabra\n",
      "ID:5,Name:Alice,Password:2736\n",
      "ID:6,Name:John,Password:abrakadabra\n"
     ]
    }
   ],
   "source": [
    "#retrieve all users\n",
    "user = Session.query(User).filter_by(id=1).first()\n",
    "for user in users:\n",
    "    print(f'ID:{user.id},Name:{user.name},Password:{user.password}')"
   ]
  },
  {
   "cell_type": "code",
   "execution_count": null,
   "id": "9bc36a96",
   "metadata": {},
   "outputs": [],
   "source": []
  }
 ],
 "metadata": {
  "kernelspec": {
   "display_name": "base",
   "language": "python",
   "name": "python3"
  },
  "language_info": {
   "codemirror_mode": {
    "name": "ipython",
    "version": 3
   },
   "file_extension": ".py",
   "mimetype": "text/x-python",
   "name": "python",
   "nbconvert_exporter": "python",
   "pygments_lexer": "ipython3",
   "version": "3.13.2"
  }
 },
 "nbformat": 4,
 "nbformat_minor": 5
}
