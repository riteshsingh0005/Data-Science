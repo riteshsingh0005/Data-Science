{
 "cells": [
  {
   "cell_type": "code",
   "execution_count": 5,
   "id": "b01059a2",
   "metadata": {},
   "outputs": [],
   "source": [
    "import cv2"
   ]
  },
  {
   "cell_type": "code",
   "execution_count": 9,
   "id": "a9c120fb",
   "metadata": {},
   "outputs": [],
   "source": [
    "image=cv2.imread('image.webp')"
   ]
  },
  {
   "cell_type": "code",
   "execution_count": 12,
   "id": "8c223fab",
   "metadata": {},
   "outputs": [],
   "source": [
    "if image is not None :\n",
    "    cv2.imshow('Image',image)\n",
    "    cv2.waitKey(0)\n",
    "    cv2.destroyAllWindows()"
   ]
  },
  {
   "cell_type": "code",
   "execution_count": 13,
   "id": "1860ff65",
   "metadata": {},
   "outputs": [
    {
     "data": {
      "text/plain": [
       "array([[[  3,   3,   8],\n",
       "        [  3,   3,   8],\n",
       "        [  3,   3,   8],\n",
       "        ...,\n",
       "        [  4,   5,   7],\n",
       "        [  4,   5,   7],\n",
       "        [  4,   5,   7]],\n",
       "\n",
       "       [[  3,   3,   8],\n",
       "        [  3,   3,   8],\n",
       "        [  3,   3,   8],\n",
       "        ...,\n",
       "        [  4,   5,   7],\n",
       "        [  4,   5,   7],\n",
       "        [  4,   5,   7]],\n",
       "\n",
       "       [[  3,   3,   8],\n",
       "        [  3,   3,   8],\n",
       "        [  3,   3,   8],\n",
       "        ...,\n",
       "        [  4,   5,   7],\n",
       "        [  4,   5,   7],\n",
       "        [  4,   5,   7]],\n",
       "\n",
       "       ...,\n",
       "\n",
       "       [[  5,   7,   7],\n",
       "        [  5,   7,   7],\n",
       "        [  5,   7,   7],\n",
       "        ...,\n",
       "        [158, 190, 155],\n",
       "        [157, 189, 154],\n",
       "        [157, 189, 154]],\n",
       "\n",
       "       [[  5,   7,   7],\n",
       "        [  5,   7,   7],\n",
       "        [  5,   7,   7],\n",
       "        ...,\n",
       "        [158, 190, 155],\n",
       "        [157, 189, 154],\n",
       "        [155, 188, 153]],\n",
       "\n",
       "       [[  6,   9,   8],\n",
       "        [  6,   9,   8],\n",
       "        [  6,   9,   8],\n",
       "        ...,\n",
       "        [158, 190, 155],\n",
       "        [155, 188, 153],\n",
       "        [155, 188, 153]]], shape=(481, 820, 3), dtype=uint8)"
      ]
     },
     "execution_count": 13,
     "metadata": {},
     "output_type": "execute_result"
    }
   ],
   "source": [
    "image"
   ]
  },
  {
   "cell_type": "code",
   "execution_count": 15,
   "id": "cb9dd415",
   "metadata": {},
   "outputs": [],
   "source": [
    "gray_image=cv2.cvtColor(image,cv2.COLOR_BGR2GRAY)\n",
    "cv2.imshow('Image',gray_image)\n",
    "cv2.waitKey(0)\n",
    "cv2.destroyAllWindows()"
   ]
  },
  {
   "cell_type": "code",
   "execution_count": 17,
   "id": "db193e7b",
   "metadata": {},
   "outputs": [],
   "source": [
    "blurred_image=cv2.GaussianBlur(image,(15,15),0)\n",
    "cv2.imshow('Blurred Image',blurred_image)\n",
    "cv2.waitKey(0)\n",
    "cv2.destroyAllWindows()"
   ]
  },
  {
   "cell_type": "code",
   "execution_count": 19,
   "id": "5360e2f1",
   "metadata": {},
   "outputs": [],
   "source": [
    "edges=cv2.Canny(gray_image,100,200)\n",
    "cv2.imshow('Edges', edges)\n",
    "cv2.waitKey(0)\n",
    "cv2.destroyAllWindows()"
   ]
  },
  {
   "cell_type": "code",
   "execution_count": null,
   "id": "46ea2c4b",
   "metadata": {},
   "outputs": [],
   "source": [
    "#resize function\n",
    "small_image=cv2.resize(image,(600,400))\n",
    "cv2.imshow('small image',small_image)\n",
    "cv2.waitKey(0)\n",
    "cv2.destroyAllWindows()"
   ]
  },
  {
   "cell_type": "code",
   "execution_count": 21,
   "id": "0cef43c0",
   "metadata": {},
   "outputs": [
    {
     "data": {
      "text/plain": [
       "(481, 820, 3)"
      ]
     },
     "execution_count": 21,
     "metadata": {},
     "output_type": "execute_result"
    }
   ],
   "source": [
    "image.shape"
   ]
  },
  {
   "cell_type": "code",
   "execution_count": 33,
   "id": "76d3607f",
   "metadata": {},
   "outputs": [],
   "source": [
    "cropped_image=image[50:200,100:200]\n",
    "\n",
    "cv2.imshow('Cropped Image',cropped_image)\n",
    "cv2.waitKey(0)\n",
    "cv2.destroyAllWindows()"
   ]
  },
  {
   "cell_type": "code",
   "execution_count": null,
   "id": "210d8ad5",
   "metadata": {},
   "outputs": [],
   "source": []
  }
 ],
 "metadata": {
  "kernelspec": {
   "display_name": "base",
   "language": "python",
   "name": "python3"
  },
  "language_info": {
   "codemirror_mode": {
    "name": "ipython",
    "version": 3
   },
   "file_extension": ".py",
   "mimetype": "text/x-python",
   "name": "python",
   "nbconvert_exporter": "python",
   "pygments_lexer": "ipython3",
   "version": "3.13.2"
  }
 },
 "nbformat": 4,
 "nbformat_minor": 5
}
