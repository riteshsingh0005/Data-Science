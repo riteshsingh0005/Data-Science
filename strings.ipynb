{
 "cells": [
  {
   "cell_type": "code",
   "execution_count": 1,
   "id": "d68d21a6",
   "metadata": {},
   "outputs": [
    {
     "name": "stdout",
     "output_type": "stream",
     "text": [
      "ritesh is good"
     ]
    }
   ],
   "source": [
    "string =\"ritesh is good\"\n",
    "for i in string:\n",
    "    print(i, end='')\n",
    "    "
   ]
  },
  {
   "cell_type": "code",
   "execution_count": 2,
   "id": "bf6aa46b",
   "metadata": {},
   "outputs": [
    {
     "name": "stdout",
     "output_type": "stream",
     "text": [
      "g\n"
     ]
    }
   ],
   "source": [
    "print(string[10])"
   ]
  },
  {
   "cell_type": "code",
   "execution_count": 3,
   "id": "1a83a6f9",
   "metadata": {},
   "outputs": [
    {
     "name": "stdout",
     "output_type": "stream",
     "text": [
      "goo\n"
     ]
    }
   ],
   "source": [
    "print(string[10:13])"
   ]
  },
  {
   "cell_type": "code",
   "execution_count": 4,
   "id": "6e9c2361",
   "metadata": {},
   "outputs": [
    {
     "name": "stdout",
     "output_type": "stream",
     "text": [
      "2030\n"
     ]
    }
   ],
   "source": [
    "#string concatenation\n",
    "a='20'\n",
    "b='30'\n",
    "print(a+b)"
   ]
  },
  {
   "cell_type": "code",
   "execution_count": 5,
   "id": "6dd90249",
   "metadata": {},
   "outputs": [
    {
     "name": "stdout",
     "output_type": "stream",
     "text": [
      "hihihihihi\n"
     ]
    }
   ],
   "source": [
    "#string duplication\n",
    "a='hi'\n",
    "print(a*5)\n"
   ]
  },
  {
   "cell_type": "code",
   "execution_count": 6,
   "id": "dba2d87b",
   "metadata": {},
   "outputs": [
    {
     "data": {
      "text/plain": [
       "'BEAUTIFUL'"
      ]
     },
     "execution_count": 6,
     "metadata": {},
     "output_type": "execute_result"
    }
   ],
   "source": [
    "word='beautiful'\n",
    "word.upper()"
   ]
  },
  {
   "cell_type": "code",
   "execution_count": 7,
   "id": "254f72b6",
   "metadata": {},
   "outputs": [
    {
     "data": {
      "text/plain": [
       "'beautiful'"
      ]
     },
     "execution_count": 7,
     "metadata": {},
     "output_type": "execute_result"
    }
   ],
   "source": [
    "word.lower()"
   ]
  },
  {
   "cell_type": "code",
   "execution_count": 8,
   "id": "31e37027",
   "metadata": {},
   "outputs": [
    {
     "data": {
      "text/plain": [
       "'Beautiful'"
      ]
     },
     "execution_count": 8,
     "metadata": {},
     "output_type": "execute_result"
    }
   ],
   "source": [
    "word.capitalize()"
   ]
  },
  {
   "cell_type": "code",
   "execution_count": 9,
   "id": "97c5b240",
   "metadata": {},
   "outputs": [
    {
     "data": {
      "text/plain": [
       "30"
      ]
     },
     "execution_count": 9,
     "metadata": {},
     "output_type": "execute_result"
    }
   ],
   "source": [
    "poem='''Johnny Johnny yes papa eating\n",
    "sugar no papa'''\n",
    "poem.find('sugar')"
   ]
  },
  {
   "cell_type": "code",
   "execution_count": 10,
   "id": "bf22866f",
   "metadata": {},
   "outputs": [
    {
     "name": "stdout",
     "output_type": "stream",
     "text": [
      "Johnny Johnny yes fufa eating\n",
      "poison no fufa\n"
     ]
    }
   ],
   "source": [
    "p=poem.replace('papa', 'fufa').replace('sugar','poison')\n",
    "print(p)"
   ]
  },
  {
   "cell_type": "code",
   "execution_count": 11,
   "id": "fdd3d19a",
   "metadata": {},
   "outputs": [
    {
     "data": {
      "text/plain": [
       "['ritesh', 'is', 'good']"
      ]
     },
     "execution_count": 11,
     "metadata": {},
     "output_type": "execute_result"
    }
   ],
   "source": [
    "string.split()"
   ]
  },
  {
   "cell_type": "code",
   "execution_count": null,
   "id": "cbf1d019",
   "metadata": {},
   "outputs": [],
   "source": [
    "p.splitlines()#this is for splitting paragraphs and converting them to a list "
   ]
  }
 ],
 "metadata": {
  "kernelspec": {
   "display_name": "base",
   "language": "python",
   "name": "python3"
  },
  "language_info": {
   "codemirror_mode": {
    "name": "ipython",
    "version": 3
   },
   "file_extension": ".py",
   "mimetype": "text/x-python",
   "name": "python",
   "nbconvert_exporter": "python",
   "pygments_lexer": "ipython3",
   "version": "3.13.2"
  }
 },
 "nbformat": 4,
 "nbformat_minor": 5
}
