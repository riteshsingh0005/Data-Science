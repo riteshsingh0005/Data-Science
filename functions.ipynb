{
 "cells": [
  {
   "cell_type": "markdown",
   "id": "049ca54e",
   "metadata": {},
   "source": [
    "major categories of function:\n",
    "\n",
    "=user defined function\n",
    "   -parameterized function\n",
    "   -non parameterized function\n",
    "   -return function\n",
    "   -non return function\n",
    "   -default parameterized function\n",
    "   -lamba function\n",
    "\n",
    "=built in function"
   ]
  },
  {
   "cell_type": "code",
   "execution_count": 1,
   "id": "0a738842",
   "metadata": {},
   "outputs": [],
   "source": [
    "def greet():\n",
    "    print(\"hello\")\n",
    "    print(\"how are you?\")\n",
    "    print(\"i am good thank you\")"
   ]
  },
  {
   "cell_type": "code",
   "execution_count": null,
   "id": "9f5edfd6",
   "metadata": {},
   "outputs": [],
   "source": []
  }
 ],
 "metadata": {
  "kernelspec": {
   "display_name": "base",
   "language": "python",
   "name": "python3"
  },
  "language_info": {
   "codemirror_mode": {
    "name": "ipython",
    "version": 3
   },
   "file_extension": ".py",
   "mimetype": "text/x-python",
   "name": "python",
   "nbconvert_exporter": "python",
   "pygments_lexer": "ipython3",
   "version": "3.13.2"
  }
 },
 "nbformat": 4,
 "nbformat_minor": 5
}
