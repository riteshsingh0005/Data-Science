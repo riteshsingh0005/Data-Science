{
 "cells": [
  {
   "cell_type": "markdown",
   "id": "049ca54e",
   "metadata": {},
   "source": [
    "major categories of function:\n",
    "\n",
    "=user defined function\n",
    "   -parameterized function\n",
    "   -non parameterized function\n",
    "   -return function\n",
    "   -non return function\n",
    "   -default parameterized function\n",
    "   -lamba function\n",
    "\n",
    "=built in function"
   ]
  },
  {
   "cell_type": "code",
   "execution_count": null,
   "id": "0a738842",
   "metadata": {},
   "outputs": [],
   "source": [
    "#non parametrized functiona\n",
    "def greet():#function initialization\n",
    "    print(\"hello\")\n",
    "    print(\"how are you?\")\n",
    "    print(\"i am good thank you\")"
   ]
  },
  {
   "cell_type": "code",
   "execution_count": 3,
   "id": "06086d5a",
   "metadata": {},
   "outputs": [
    {
     "name": "stdout",
     "output_type": "stream",
     "text": [
      "hello\n",
      "how are you?\n",
      "i am good thank you\n"
     ]
    }
   ],
   "source": [
    "greet()#function calling"
   ]
  },
  {
   "cell_type": "code",
   "execution_count": 9,
   "id": "0668dc6e",
   "metadata": {},
   "outputs": [
    {
     "name": "stdout",
     "output_type": "stream",
     "text": [
      "15\n"
     ]
    }
   ],
   "source": [
    "def sum(a,b):#parameter\n",
    "    print(a+b)\n",
    "sum(5,10)#arguement"
   ]
  },
  {
   "cell_type": "code",
   "execution_count": 7,
   "id": "22049670",
   "metadata": {},
   "outputs": [],
   "source": [
    "a = 10\n",
    "b = 5"
   ]
  },
  {
   "cell_type": "code",
   "execution_count": 4,
   "id": "adbf446d",
   "metadata": {},
   "outputs": [],
   "source": [
    "def sum():\n",
    "    print(a+b)"
   ]
  },
  {
   "cell_type": "code",
   "execution_count": 8,
   "id": "e57b99bc",
   "metadata": {},
   "outputs": [
    {
     "name": "stdout",
     "output_type": "stream",
     "text": [
      "15\n"
     ]
    }
   ],
   "source": [
    "sum()"
   ]
  },
  {
   "cell_type": "code",
   "execution_count": 10,
   "id": "5dadfdee",
   "metadata": {},
   "outputs": [
    {
     "name": "stdout",
     "output_type": "stream",
     "text": [
      "elligible\n"
     ]
    }
   ],
   "source": [
    "def age(age):\n",
    "    if age >= 18:\n",
    "        print(\"elligible\")\n",
    "    else:\n",
    "        print(\"not elligible\")\n",
    "age(21)"
   ]
  },
  {
   "cell_type": "code",
   "execution_count": 11,
   "id": "60b0ee2d",
   "metadata": {},
   "outputs": [
    {
     "name": "stdout",
     "output_type": "stream",
     "text": [
      "not elligible\n"
     ]
    }
   ],
   "source": [
    "age(15)"
   ]
  },
  {
   "cell_type": "code",
   "execution_count": 13,
   "id": "f700dfd7",
   "metadata": {},
   "outputs": [
    {
     "name": "stdout",
     "output_type": "stream",
     "text": [
      "25.0\n"
     ]
    }
   ],
   "source": [
    "def avg(a,b,c,d):\n",
    "    print ((a+b+c+d)/4)\n",
    "avg(10,20,30,40)"
   ]
  },
  {
   "cell_type": "code",
   "execution_count": 14,
   "id": "46534cb3",
   "metadata": {},
   "outputs": [
    {
     "name": "stdout",
     "output_type": "stream",
     "text": [
      "25.0\n"
     ]
    }
   ],
   "source": [
    "def avg(a,b,c,d):\n",
    "    return((a+b+c+d)/4)\n",
    "average = avg(10,20,30,40)\n",
    "print(average)"
   ]
  },
  {
   "cell_type": "code",
   "execution_count": 15,
   "id": "67d4aabc",
   "metadata": {},
   "outputs": [
    {
     "name": "stdout",
     "output_type": "stream",
     "text": [
      "25.0\n"
     ]
    }
   ],
   "source": [
    "print(average)"
   ]
  },
  {
   "cell_type": "code",
   "execution_count": null,
   "id": "9998a1d0",
   "metadata": {},
   "outputs": [
    {
     "name": "stdout",
     "output_type": "stream",
     "text": [
      "I loveIndia\n",
      "I loveUSA\n",
      "I loveJapan\n"
     ]
    }
   ],
   "source": [
    "def myCountry(country):\n",
    "    return f'I love{country}' #f string for formatting\n",
    "print(myCountry(\"India\"))\n",
    "print(myCountry(\"USA\"))\n",
    "print(myCountry(\"Japan\"))\n",
    "\n",
    "    "
   ]
  },
  {
   "cell_type": "code",
   "execution_count": 17,
   "id": "e38fab60",
   "metadata": {},
   "outputs": [
    {
     "data": {
      "text/plain": [
       "256"
      ]
     },
     "execution_count": 17,
     "metadata": {},
     "output_type": "execute_result"
    }
   ],
   "source": [
    "def square(num):\n",
    "    return num**num\n",
    "square(4)"
   ]
  },
  {
   "cell_type": "code",
   "execution_count": 18,
   "id": "57ce7094",
   "metadata": {},
   "outputs": [
    {
     "name": "stdout",
     "output_type": "stream",
     "text": [
      "256\n"
     ]
    }
   ],
   "source": [
    "square = lambda num: num**num\n",
    "print(square(4))"
   ]
  },
  {
   "cell_type": "code",
   "execution_count": 22,
   "id": "4fa70744",
   "metadata": {},
   "outputs": [],
   "source": [
    "def number(a):\n",
    "    if a%2 == 0:\n",
    "        return \"even\"\n",
    "    else:\n",
    "        return \"odd\"\n"
   ]
  },
  {
   "cell_type": "code",
   "execution_count": 23,
   "id": "d12312e8",
   "metadata": {},
   "outputs": [
    {
     "data": {
      "text/plain": [
       "'even'"
      ]
     },
     "execution_count": 23,
     "metadata": {},
     "output_type": "execute_result"
    }
   ],
   "source": [
    "number(10)"
   ]
  },
  {
   "cell_type": "code",
   "execution_count": null,
   "id": "a8198fce",
   "metadata": {},
   "outputs": [],
   "source": []
  }
 ],
 "metadata": {
  "kernelspec": {
   "display_name": "base",
   "language": "python",
   "name": "python3"
  },
  "language_info": {
   "codemirror_mode": {
    "name": "ipython",
    "version": 3
   },
   "file_extension": ".py",
   "mimetype": "text/x-python",
   "name": "python",
   "nbconvert_exporter": "python",
   "pygments_lexer": "ipython3",
   "version": "3.13.2"
  }
 },
 "nbformat": 4,
 "nbformat_minor": 5
}
